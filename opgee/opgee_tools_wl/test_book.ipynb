{
 "metadata": {
  "language_info": {
   "codemirror_mode": {
    "name": "ipython",
    "version": 3
   },
   "file_extension": ".py",
   "mimetype": "text/x-python",
   "name": "python",
   "nbconvert_exporter": "python",
   "pygments_lexer": "ipython3",
   "version": "3.7.3-final"
  },
  "orig_nbformat": 2,
  "kernelspec": {
   "name": "python3",
   "display_name": "Python 3",
   "language": "python"
  }
 },
 "nbformat": 4,
 "nbformat_minor": 2,
 "cells": [
  {
   "cell_type": "code",
   "execution_count": 7,
   "metadata": {},
   "outputs": [],
   "source": [
    "import pandas as pd\n",
    "import numpy as np\n",
    "import constant as const\n",
    "import oil_flow_sheet as oil_flow_f\n",
    "import gas_flow_sheet as gas_flow_f\n",
    "import gas_library as gas_lib\n",
    "import constant as const\n",
    "import Fuel_specs as fuel\n",
    "import thermo_function as thermo_f\n",
    "import water_flow_sheet as water_flow_f"
   ]
  },
  {
   "cell_type": "code",
   "execution_count": 2,
   "metadata": {},
   "outputs": [],
   "source": [
    "gas_comp = np.array([[\"N2\", 0.04], [\"CH4\", 0.966], [\"C2H6\", 0.02], [\"C3H8\", 0.01]])"
   ]
  },
  {
   "cell_type": "code",
   "execution_count": 3,
   "metadata": {},
   "outputs": [],
   "source": [
    "gas_rate = np.array([[\"N2\", 3703.2], [\"CO2\", 17455.5], [\"CH4\", 89071.9], [\"C2H6\", 7950.2], [\"C3H8\", 5829.3], [\"C4H10\", 3841.9], [\"H2S\", 2252.6]])\n"
   ]
  },
  {
   "cell_type": "code",
   "execution_count": 4,
   "metadata": {},
   "outputs": [],
   "source": [
    "import oil_flow_sheet as oil_flow_f"
   ]
  },
  {
   "cell_type": "code",
   "execution_count": 6,
   "metadata": {},
   "outputs": [],
   "source": [
    "temp = 180\n",
    "pressure = 3468\n",
    "API = 47\n",
    "GOR = 736100\n",
    "W_TDS = 5000"
   ]
  },
  {
   "cell_type": "code",
   "execution_count": 6,
   "metadata": {},
   "outputs": [
    {
     "output_type": "stream",
     "name": "stdout",
     "text": [
      "40.84230957611692\n130104.59999999999\n"
     ]
    },
    {
     "output_type": "execute_result",
     "data": {
      "text/plain": [
       "5036512.345838455"
      ]
     },
     "metadata": {},
     "execution_count": 6
    }
   ],
   "source": [
    "# gas_flow_f.Q_G(gas_rate, 201.6, 5874)\n",
    "# gas_flow_f.P_R(gas_rate, 5874)\n",
    "gas_flow_f.F_LHV_G(gas_rate)\n",
    "water"
   ]
  },
  {
   "cell_type": "code",
   "execution_count": 18,
   "metadata": {},
   "outputs": [
    {
     "output_type": "execute_result",
     "data": {
      "text/plain": [
       "'3703.217455.5'"
      ]
     },
     "metadata": {},
     "execution_count": 18
    }
   ],
   "source": [
    "gas_rate[:,1][0]+gas_rate[:,1][1]"
   ]
  },
  {
   "cell_type": "code",
   "execution_count": 9,
   "metadata": {},
   "outputs": [],
   "source": [
    "import thermosteam as tmo\n",
    "import gas_library as gas_lib"
   ]
  },
  {
   "cell_type": "code",
   "execution_count": 11,
   "metadata": {},
   "outputs": [
    {
     "output_type": "error",
     "ename": "KeyError",
     "evalue": "'C20H30'",
     "traceback": [
      "\u001b[1;31m---------------------------------------------------------------------------\u001b[0m",
      "\u001b[1;31mKeyError\u001b[0m                                  Traceback (most recent call last)",
      "\u001b[1;32m<ipython-input-11-4be450b4516a>\u001b[0m in \u001b[0;36m<module>\u001b[1;34m\u001b[0m\n\u001b[1;32m----> 1\u001b[1;33m \u001b[0mgas_lib\u001b[0m\u001b[1;33m.\u001b[0m\u001b[0mdict_gas_tmo\u001b[0m\u001b[1;33m[\u001b[0m\u001b[1;34m\"C20H30\"\u001b[0m\u001b[1;33m]\u001b[0m\u001b[1;33m\u001b[0m\u001b[1;33m\u001b[0m\u001b[0m\n\u001b[0m",
      "\u001b[1;31mKeyError\u001b[0m: 'C20H30'"
     ]
    }
   ],
   "source": [
    "gas_lib.dict_gas_tmo[\"C20H30\"]"
   ]
  },
  {
   "cell_type": "code",
   "execution_count": 11,
   "metadata": {},
   "outputs": [
    {
     "output_type": "stream",
     "name": "stdout",
     "text": [
      "N2\n3703.2\nCO2\n17455.5\nCH4\n89071.9\nC2H6\n7950.2\nC3H8\n5829.3\nC4H10\n3841.9\nH2S\n2252.6\n"
     ]
    }
   ],
   "source": [
    "for name, value in gas_rate:\n",
    "    print(name)\n",
    "    print(float(value))"
   ]
  },
  {
   "cell_type": "code",
   "execution_count": null,
   "metadata": {},
   "outputs": [],
   "source": []
  }
 ]
}